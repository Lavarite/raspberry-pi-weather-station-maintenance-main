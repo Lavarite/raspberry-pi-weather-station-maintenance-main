{
 "cells": [
  {
   "cell_type": "code",
   "execution_count": 10,
   "metadata": {},
   "outputs": [],
   "source": [
    "import hashlib\n",
    "\n",
    "# also a decorator. Calls the function repeatedly on the last result for multiple rounds of hashing\n",
    "\n",
    "\n",
    "def repeat_decorator_factory(repeats: int):\n",
    "    \"\"\"works where there is one input and a process can be repeated by running again on previous output\"\"\"\n",
    "    def decorator(function):\n",
    "        name = function.__name__\n",
    "\n",
    "        def wrapper(arg):\n",
    "            result = arg\n",
    "            for _ in range(repeats):\n",
    "                result = function(result)\n",
    "            return result\n",
    "        wrapper.__name__ = name\n",
    "        return wrapper\n",
    "    return decorator\n",
    "\n",
    "# function returns a hexadecimal string for the SHA256 hash of an object\n",
    "\n",
    "\n",
    "@repeat_decorator_factory(10**3)\n",
    "# @repeat_decorator_factory(1)\n",
    "def hash(plain_txt):\n",
    "    \"\"\"one way hash using sha256\"\"\"\n",
    "    hash_ = hashlib.sha256()\n",
    "    hash_.update(plain_txt.encode())\n",
    "    return hash_.hexdigest()\n"
   ]
  },
  {
   "cell_type": "code",
   "execution_count": 1,
   "metadata": {},
   "outputs": [
    {
     "name": "stdout",
     "output_type": "stream",
     "text": [
      "42544576b3db1561ce8feae6d45be2e757534f26825152d15cf7a17c0d6d4eb7\n"
     ]
    }
   ],
   "source": [
    "# local hash\n",
    "with open(\"hashed_key.key\", \"r\") as file:\n",
    "    hashed_key = file.read()\n",
    "hashed_key.replace(\"\\n\", \"\")\n",
    "\n",
    "print(hashed_key)"
   ]
  },
  {
   "cell_type": "code",
   "execution_count": null,
   "metadata": {},
   "outputs": [],
   "source": [
    "\n",
    "\n"
   ]
  },
  {
   "cell_type": "code",
   "execution_count": 1,
   "metadata": {},
   "outputs": [],
   "source": [
    "import requests\n",
    "import random\n",
    "import json"
   ]
  },
  {
   "cell_type": "code",
   "execution_count": 2,
   "metadata": {},
   "outputs": [
    {
     "data": {
      "text/plain": [
       "<Response [200]>"
      ]
     },
     "execution_count": 2,
     "metadata": {},
     "output_type": "execute_result"
    }
   ],
   "source": [
    "# test delete\n",
    "payload = {\n",
    "#     \"secret_key\": \"ABC123-this-is-a-pi-secret-key\"\n",
    "}\n",
    "requests.post(\n",
    "    \"http://172.20.47.242/utility/delete\",\n",
    "    json=payload\n",
    ")"
   ]
  },
  {
   "cell_type": "code",
   "execution_count": 3,
   "metadata": {},
   "outputs": [],
   "source": [
    "# local copy of server log\n",
    "payload = {\n",
    "    # \"secret_key\": \"ABC123-this-is-a-pi-secret-key\"\n",
    "#     \"secret_key\": \"ABC123-this-is-a-pi-secret-key\"\n",
    "}\n",
    "response = requests.post(\n",
    "    \"http://127.0.0.1:5000/utility/server_log\",\n",
    "    json=payload\n",
    ")\n",
    "with open(\"log local copy.txt\", \"wb\") as file:\n",
    "    file.write(\n",
    "        response.content\n",
    "    )"
   ]
  },
  {
   "cell_type": "code",
   "execution_count": 6,
   "metadata": {},
   "outputs": [],
   "source": [
    "# test load many\n",
    "def new_random_reading():\n",
    "    return {\n",
    "        'pressure': random.uniform(0,30),\n",
    "        'temperature': random.uniform(0, 30),\n",
    "        'humidity': random.uniform(0, 30),\n",
    "        'wind_speed': random.uniform(0, 30),\n",
    "        'wind_direction': random.uniform(0, 360),\n",
    "        'precipitation': random.uniform(0, 4)\n",
    "    }\n",
    "\n",
    "\n",
    "new_data_items = [new_random_reading() for _ in range(20)]\n",
    "payload = {\n",
    "    # \"secret_key\": \"GqFpIvxfUt6Ku8CmtLVmdRzlS\",\n",
    "    'new_data_items': new_data_items\n",
    "}\n",
    "\n",
    "response = requests.post(\n",
    "    # \"http://127.0.0.1:5000/utility/load_many\",\n",
    "    \"http://172.20.47.242/utility/load_many\",\n",
    "    json=payload\n",
    ")\n"
   ]
  },
  {
   "cell_type": "code",
   "execution_count": 7,
   "metadata": {},
   "outputs": [
    {
     "data": {
      "text/plain": [
       "200"
      ]
     },
     "execution_count": 7,
     "metadata": {},
     "output_type": "execute_result"
    }
   ],
   "source": [
    "response.status_code"
   ]
  },
  {
   "cell_type": "code",
   "execution_count": 8,
   "metadata": {},
   "outputs": [
    {
     "data": {
      "text/plain": [
       "b'\"[{\\\\\"precipitation\\\\\": 0.9978878789765018, \\\\\"temperature\\\\\": 10.539897713732, \\\\\"timestamp\\\\\": \\\\\"2022-11-16 16:55:44\\\\\", \\\\\"pressure\\\\\": 1.6696237164537975, \\\\\"wind_direction\\\\\": 178.9085356212982, \\\\\"humidity\\\\\": 26.21197606568838, \\\\\"wind_speed\\\\\": 5.622047322129053}, {\\\\\"precipitation\\\\\": 0.43436559854689083, \\\\\"temperature\\\\\": 22.802655278657127, \\\\\"timestamp\\\\\": \\\\\"2022-11-16 16:55:44\\\\\", \\\\\"pressure\\\\\": 8.37687614172225, \\\\\"wind_direction\\\\\": 351.85084185814094, \\\\\"humidity\\\\\": 18.991301592788165, \\\\\"wind_speed\\\\\": 22.953821696736405}, {\\\\\"precipitation\\\\\": 0.4871747415750525, \\\\\"temperature\\\\\": 29.4671898942377, \\\\\"timestamp\\\\\": \\\\\"2022-11-16 16:55:44\\\\\", \\\\\"pressure\\\\\": 23.213873022868743, \\\\\"wind_direction\\\\\": 84.43009563686863, \\\\\"humidity\\\\\": 2.7723486163468944, \\\\\"wind_speed\\\\\": 11.268795572625827}, {\\\\\"precipitation\\\\\": 2.1331524706104936, \\\\\"temperature\\\\\": 14.046140099332238, \\\\\"timestamp\\\\\": \\\\\"2022-11-16 16:55:44\\\\\", \\\\\"pressure\\\\\": 13.856032348645236, \\\\\"wind_direction\\\\\": 359.648081739341, \\\\\"humidity\\\\\": 27.106963424986155, \\\\\"wind_speed\\\\\": 8.61626551567854}, {\\\\\"precipitation\\\\\": 3.277742245467915, \\\\\"temperature\\\\\": 29.799591339401914, \\\\\"timestamp\\\\\": \\\\\"2022-11-16 16:55:44\\\\\", \\\\\"pressure\\\\\": 7.615139383122674, \\\\\"wind_direction\\\\\": 109.46563544296207, \\\\\"humidity\\\\\": 17.06607965507198, \\\\\"wind_speed\\\\\": 19.870386960953184}, {\\\\\"precipitation\\\\\": 2.3832103632271924, \\\\\"temperature\\\\\": 2.728482636854385, \\\\\"timestamp\\\\\": \\\\\"2022-11-16 16:55:44\\\\\", \\\\\"pressure\\\\\": 6.439936324266817, \\\\\"wind_direction\\\\\": 276.8281383045391, \\\\\"humidity\\\\\": 18.30575394533975, \\\\\"wind_speed\\\\\": 14.980534927036262}, {\\\\\"precipitation\\\\\": 2.903286799204578, \\\\\"temperature\\\\\": 27.080098597600326, \\\\\"timestamp\\\\\": \\\\\"2022-11-16 16:55:44\\\\\", \\\\\"pressure\\\\\": 13.59427373141981, \\\\\"wind_direction\\\\\": 344.94207089331803, \\\\\"humidity\\\\\": 20.22855091588519, \\\\\"wind_speed\\\\\": 25.14912814093001}, {\\\\\"precipitation\\\\\": 1.7517054006746364, \\\\\"temperature\\\\\": 7.069515865836089, \\\\\"timestamp\\\\\": \\\\\"2022-11-16 16:55:44\\\\\", \\\\\"pressure\\\\\": 12.72555672524274, \\\\\"wind_direction\\\\\": 6.6690486276438365, \\\\\"humidity\\\\\": 5.054565656733803, \\\\\"wind_speed\\\\\": 4.332845835691104}, {\\\\\"precipitation\\\\\": 3.2235390909803647, \\\\\"temperature\\\\\": 0.6794809005785141, \\\\\"timestamp\\\\\": \\\\\"2022-11-16 16:55:44\\\\\", \\\\\"pressure\\\\\": 12.298776827441705, \\\\\"wind_direction\\\\\": 265.2360838968951, \\\\\"humidity\\\\\": 11.121848823885012, \\\\\"wind_speed\\\\\": 23.88019334433798}, {\\\\\"precipitation\\\\\": 1.7248103313406498, \\\\\"temperature\\\\\": 6.8134785513285205, \\\\\"timestamp\\\\\": \\\\\"2022-11-16 16:55:44\\\\\", \\\\\"pressure\\\\\": 25.070413478031334, \\\\\"wind_direction\\\\\": 259.622227842844, \\\\\"humidity\\\\\": 25.080219415929815, \\\\\"wind_speed\\\\\": 12.354380037211651}, {\\\\\"precipitation\\\\\": 3.3287931849537458, \\\\\"temperature\\\\\": 14.461974145170881, \\\\\"timestamp\\\\\": \\\\\"2022-11-16 16:55:44\\\\\", \\\\\"pressure\\\\\": 20.2296535807418, \\\\\"wind_direction\\\\\": 123.92007653806675, \\\\\"humidity\\\\\": 14.73523058279011, \\\\\"wind_speed\\\\\": 15.466944794331395}, {\\\\\"precipitation\\\\\": 2.889418089533805, \\\\\"temperature\\\\\": 27.175794561360313, \\\\\"timestamp\\\\\": \\\\\"2022-11-16 16:55:44\\\\\", \\\\\"pressure\\\\\": 14.963462205411789, \\\\\"wind_direction\\\\\": 161.71023988027102, \\\\\"humidity\\\\\": 11.260648955886976, \\\\\"wind_speed\\\\\": 22.17819757221845}, {\\\\\"precipitation\\\\\": 3.037030365038953, \\\\\"temperature\\\\\": 12.60936995694903, \\\\\"timestamp\\\\\": \\\\\"2022-11-16 16:55:44\\\\\", \\\\\"pressure\\\\\": 21.93600551032507, \\\\\"wind_direction\\\\\": 272.9566991977545, \\\\\"humidity\\\\\": 10.887110917921994, \\\\\"wind_speed\\\\\": 18.91390301423262}, {\\\\\"precipitation\\\\\": 2.1616266426820254, \\\\\"temperature\\\\\": 21.934140193792214, \\\\\"timestamp\\\\\": \\\\\"2022-11-16 16:55:44\\\\\", \\\\\"pressure\\\\\": 20.049520041179033, \\\\\"wind_direction\\\\\": 136.43825510195867, \\\\\"humidity\\\\\": 22.775739104632002, \\\\\"wind_speed\\\\\": 18.70250934849273}, {\\\\\"precipitation\\\\\": 3.7168689841462, \\\\\"temperature\\\\\": 4.920706679197697, \\\\\"timestamp\\\\\": \\\\\"2022-11-16 16:55:44\\\\\", \\\\\"pressure\\\\\": 3.8933133834654186, \\\\\"wind_direction\\\\\": 132.79579884005426, \\\\\"humidity\\\\\": 3.302189170374714, \\\\\"wind_speed\\\\\": 25.429576505632895}, {\\\\\"precipitation\\\\\": 2.285397403481177, \\\\\"temperature\\\\\": 10.1524047563795, \\\\\"timestamp\\\\\": \\\\\"2022-11-16 16:55:44\\\\\", \\\\\"pressure\\\\\": 1.8923823037623988, \\\\\"wind_direction\\\\\": 78.79604572902826, \\\\\"humidity\\\\\": 23.09674711061776, \\\\\"wind_speed\\\\\": 28.99767333235615}, {\\\\\"precipitation\\\\\": 1.4861833911376543, \\\\\"temperature\\\\\": 22.09788228396415, \\\\\"timestamp\\\\\": \\\\\"2022-11-16 16:55:44\\\\\", \\\\\"pressure\\\\\": 17.289354170747153, \\\\\"wind_direction\\\\\": 198.2060127173362, \\\\\"humidity\\\\\": 29.748957106584538, \\\\\"wind_speed\\\\\": 23.761049109720844}, {\\\\\"precipitation\\\\\": 1.0542408199355635, \\\\\"temperature\\\\\": 22.033174970833645, \\\\\"timestamp\\\\\": \\\\\"2022-11-16 16:55:44\\\\\", \\\\\"pressure\\\\\": 27.355098089730063, \\\\\"wind_direction\\\\\": 310.2063576645925, \\\\\"humidity\\\\\": 7.113867916896095, \\\\\"wind_speed\\\\\": 29.74476760107297}, {\\\\\"precipitation\\\\\": 3.1081098270598027, \\\\\"temperature\\\\\": 7.445334390582243, \\\\\"timestamp\\\\\": \\\\\"2022-11-16 16:55:44\\\\\", \\\\\"pressure\\\\\": 15.183753114998883, \\\\\"wind_direction\\\\\": 115.79073820754182, \\\\\"humidity\\\\\": 25.601347821857143, \\\\\"wind_speed\\\\\": 13.749616452019769}, {\\\\\"precipitation\\\\\": 2.177799915565464, \\\\\"temperature\\\\\": 0.6548569115484404, \\\\\"timestamp\\\\\": \\\\\"2022-11-16 16:55:44\\\\\", \\\\\"pressure\\\\\": 1.543008224417397, \\\\\"wind_direction\\\\\": 76.9372133310569, \\\\\"humidity\\\\\": 22.27133463777583, \\\\\"wind_speed\\\\\": 7.155189713285739}]\"\\n'"
      ]
     },
     "execution_count": 8,
     "metadata": {},
     "output_type": "execute_result"
    }
   ],
   "source": [
    "response.content"
   ]
  },
  {
   "cell_type": "code",
   "execution_count": 1,
   "metadata": {},
   "outputs": [],
   "source": [
    "import hashlib\n",
    "\n",
    "# also a decorator. Calls the function repeatedly on the last result for multiple rounds of hashing\n",
    "\n",
    "\n",
    "def repeat_decorator_factory(repeats: int):\n",
    "    \"\"\"works where there is one input and a process can be repeated by running again on previous output\"\"\"\n",
    "    def decorator(function):\n",
    "        name = function.__name__\n",
    "\n",
    "        def wrapper(arg):\n",
    "            result = arg\n",
    "            for _ in range(repeats):\n",
    "                result = function(result)\n",
    "            return result\n",
    "        wrapper.__name__ = name\n",
    "        return wrapper\n",
    "    return decorator\n",
    "\n",
    "# function returns a hexadecimal string for the SHA256 hash of an object\n",
    "\n",
    "\n",
    "@repeat_decorator_factory(10**3)\n",
    "# @repeat_decorator_factory(1)\n",
    "def hash(plain_txt):\n",
    "    \"\"\"one way hash using sha256\"\"\"\n",
    "    hash_ = hashlib.sha256()\n",
    "    hash_.update(plain_txt.encode())\n",
    "    return hash_.hexdigest()\n",
    "\n"
   ]
  },
  {
   "cell_type": "code",
   "execution_count": 3,
   "metadata": {},
   "outputs": [
    {
     "data": {
      "text/plain": [
       "'7b27671ea1cf6cba64471a482b59b63ed91be6720f360253a82aabe0aa2752f5'"
      ]
     },
     "execution_count": 3,
     "metadata": {},
     "output_type": "execute_result"
    }
   ],
   "source": [
    "x = \"\"\"j0<4W}Hfn!}CqA=eSzL]8fi+X05rf)$vH#1T5uOzhw\\kCkKj\"KVde]a$z`8S~#{=}6,$iC\\6\"\"YboYuZXbQY/kn!b4e4+%ZKf7U&\"\"\"\n",
    "hash(str(x.strip()))\n"
   ]
  },
  {
   "cell_type": "code",
   "execution_count": 2,
   "metadata": {},
   "outputs": [
    {
     "name": "stdout",
     "output_type": "stream",
     "text": [
      "GqFpIvxfUt6Ku8CmtLVmdRzlS\n"
     ]
    },
    {
     "data": {
      "text/plain": [
       "'55f561a9405ca9755fb4b0edb5bbe29bac1c4bf34f525262e48aee3286f8882b'"
      ]
     },
     "execution_count": 2,
     "metadata": {},
     "output_type": "execute_result"
    }
   ],
   "source": [
    "with open(\"./delete_me_key.key\", \"r\") as file:\n",
    "    key = file.read()\n",
    "print(key)\n",
    "hash(str(key.strip()))"
   ]
  },
  {
   "cell_type": "markdown",
   "metadata": {},
   "source": [
    "different from hash expected, means I have an old key. Get PI key from SAM"
   ]
  },
  {
   "cell_type": "code",
   "execution_count": 3,
   "metadata": {},
   "outputs": [
    {
     "name": "stdout",
     "output_type": "stream",
     "text": [
      "<Response [200]>\n",
      "[]\n"
     ]
    }
   ],
   "source": [
    "# test dump all\n",
    "payload = {\n",
    "#     \"secret_key\": \"ABC123-this-is-a-pi-secret-key\",\n",
    "}\n",
    "\n",
    "response = requests.post(\n",
    "    \"http://172.20.47.242/utility/dump_all\",\n",
    "    json=payload\n",
    ")\n",
    "print(response)\n",
    "data = json.loads(response.text)\n",
    "print(data)\n",
    "# cannot compare, will include time stamp"
   ]
  },
  {
   "cell_type": "code",
   "execution_count": 6,
   "metadata": {},
   "outputs": [],
   "source": [
    "# delete before date\n",
    "payload = {\n",
    "    \"secret_key\": \"ABC123-this-is-a-pi-secret-key\",\n",
    "    \"date\": \"2022-07-11 13:34:25\"\n",
    "}\n",
    "\n",
    "response = requests.post(\n",
    "    \"http://127.0.0.1:5000/utility/delete_before_date\",\n",
    "    json=payload\n",
    ")\n",
    "# cannot compare, will include time stamp\n"
   ]
  },
  {
   "cell_type": "code",
   "execution_count": 12,
   "metadata": {},
   "outputs": [],
   "source": [
    "import hashlib\n",
    "\n",
    "def repeat_decorator_factory(repeats: int):\n",
    "    \"\"\"works where there is one input and a process can be repeated by running again on previous output\"\"\"\n",
    "    def decorator(function):\n",
    "        name = function.__name__\n",
    "\n",
    "        def wrapper(arg):\n",
    "            result = arg\n",
    "            for _ in range(repeats):\n",
    "                result = function(result)\n",
    "            return result\n",
    "        wrapper.__name__ = name\n",
    "        return wrapper\n",
    "    return decorator\n",
    "\n",
    "\n",
    "@repeat_decorator_factory(10**3)\n",
    "def hash(plain_txt):\n",
    "    \"\"\"one way hash using sha256\"\"\"\n",
    "    hash_ = hashlib.sha256()\n",
    "    hash_.update(plain_txt.encode())\n",
    "    return hash_.hexdigest()\n"
   ]
  },
  {
   "cell_type": "code",
   "execution_count": 13,
   "metadata": {},
   "outputs": [
    {
     "data": {
      "text/plain": [
       "'42544576b3db1561ce8feae6d45be2e757534f26825152d15cf7a17c0d6d4eb7'"
      ]
     },
     "execution_count": 13,
     "metadata": {},
     "output_type": "execute_result"
    }
   ],
   "source": [
    "hash(\"ABC123-this-is-a-pi-secret-key\")\n"
   ]
  },
  {
   "cell_type": "code",
   "execution_count": 14,
   "metadata": {},
   "outputs": [
    {
     "data": {
      "text/plain": [
       "'07dcbc360942af3fd241d8c972bd0fe950e669dcf4f2e6d9a427a754f9266090'"
      ]
     },
     "execution_count": 14,
     "metadata": {},
     "output_type": "execute_result"
    }
   ],
   "source": [
    "\n",
    "hash(\"\"\"j0<4W}Hfn!}CqA=eSzL]8fi+X05rf)$vH#1T5uOzhw\\kCkKj\"KVde]a$z`8S~  # {=}6,$iC\\6\"\"YboYuZXbQY/kn!b4e4+%ZKf7U&\"\"\")\n"
   ]
  },
  {
   "cell_type": "code",
   "execution_count": null,
   "metadata": {},
   "outputs": [],
   "source": []
  }
 ],
 "metadata": {
  "kernelspec": {
   "display_name": "Python 3 (ipykernel)",
   "language": "python",
   "name": "python3"
  },
  "language_info": {
   "codemirror_mode": {
    "name": "ipython",
    "version": 3
   },
   "file_extension": ".py",
   "mimetype": "text/x-python",
   "name": "python",
   "nbconvert_exporter": "python",
   "pygments_lexer": "ipython3",
   "version": "3.9.1"
  },
  "vscode": {
   "interpreter": {
    "hash": "1215b1aecdd8c83375b241d0c862057777d1b41ed412da38189195d086960e71"
   }
  }
 },
 "nbformat": 4,
 "nbformat_minor": 2
}
